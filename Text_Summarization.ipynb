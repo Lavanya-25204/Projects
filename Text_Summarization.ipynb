{
  "nbformat": 4,
  "nbformat_minor": 0,
  "metadata": {
    "colab": {
      "provenance": []
    },
    "kernelspec": {
      "name": "python3",
      "display_name": "Python 3"
    },
    "language_info": {
      "name": "python"
    }
  },
  "cells": [
    {
      "cell_type": "code",
      "source": [
        "from transformers import pipeline\n",
        "import re\n",
        "\n",
        "# Initialize the summarization pipeline\n",
        "summarizer = pipeline(\"summarization\")"
      ],
      "metadata": {
        "id": "Swbo_9p0SdGJ"
      },
      "execution_count": null,
      "outputs": []
    },
    {
      "cell_type": "code",
      "source": [
        "def count_words(text):\n",
        "    \"\"\"Counts words in a given text.\"\"\"\n",
        "    words = re.findall(r'\\w+', text)\n",
        "    return len(words)"
      ],
      "metadata": {
        "id": "aZEpPmiGShwp"
      },
      "execution_count": null,
      "outputs": []
    },
    {
      "cell_type": "code",
      "source": [
        "def post_process(summary, target_length):\n",
        "    \"\"\"Ensure the summary ends with a complete sentence and a full stop.\"\"\"\n",
        "    sentences = summary.split('. ')\n",
        "    processed_summary = sentences[0]\n",
        "\n",
        "    for sentence in sentences[1:]:\n",
        "        if count_words(f\"{processed_summary}. {sentence}\") <= target_length:\n",
        "            processed_summary += f\". {sentence}\"\n",
        "        else:\n",
        "            break\n",
        "\n",
        "    # Ensure the summary ends with a full stop\n",
        "    if not processed_summary.endswith('.'):\n",
        "        processed_summary += '.'\n",
        "\n",
        "    return processed_summary"
      ],
      "metadata": {
        "id": "VHqIqSJXSkH5"
      },
      "execution_count": null,
      "outputs": []
    },
    {
      "cell_type": "code",
      "source": [
        "def main():\n",
        "    print(\"\\033[1mEnter the text you want to summarize:\\033[0m\")\n",
        "    text = input()\n",
        "    word_count = count_words(text)\n",
        "    print(f\"\\nYour text contains \\033[1m{word_count}\\033[0m words.\\n\")\n",
        "\n",
        "    print(\"\\033[1mHow many words should the summary be? \\033[0m\")\n",
        "    desired_length = int(input())\n",
        "\n",
        "    # Generate an initial summary with some flexibility\n",
        "    summary = summarizer(text, max_length=desired_length + 20, min_length=desired_length // 2, do_sample=False)\n",
        "    refined_summary = post_process(summary[0]['summary_text'], desired_length)\n",
        "\n",
        "    print(\"\\n\\033[1mSummary:\\033[0m\")\n",
        "    print(refined_summary.strip())\n",
        "\n",
        "    word_count = count_words(refined_summary)\n",
        "    print(f\"\\nThe provided summary contains \\033[1m{word_count}\\033[0m words.\")\n",
        "\n",
        "if __name__ == \"__main__\":\n",
        "    main()"
      ],
      "metadata": {
        "colab": {
          "base_uri": "https://localhost:8080/"
        },
        "id": "eTAqDBGASnXI",
        "outputId": "48af0e96-6c0c-4a92-e6f1-fbafff1255bf"
      },
      "execution_count": null,
      "outputs": [
        {
          "output_type": "stream",
          "name": "stdout",
          "text": [
            "\u001b[1mEnter the text you want to summarize:\u001b[0m\n",
            "Artificial Intelligence (AI) is a branch of computer science that aims to create machines capable of intelligent behavior. Historically, it has been a subject of fascination and intensive research since the mid-20th century, with the goal to develop software and systems that can perform tasks which would typically require human intelligence. These tasks include problem-solving, recognizing speech, understanding languages, making decisions, and translating between languages. AI systems are now a part of our everyday lives, powering search engines, enabling voice assistants on smartphones, and automating industrial processes. Despite significant advances, AI technology continues to evolve, driven by greater computational power and more sophisticated algorithms. Researchers and developers are constantly exploring new ways to enhance the capabilities of AI, making it more efficient, reliable, and accessible to a broader audience.\n",
            "\n",
            "Your text contains \u001b[1m131\u001b[0m words.\n",
            "\n",
            "\u001b[1mHow many words should the summary be? \u001b[0m\n",
            "50\n",
            "\n",
            "\u001b[1mSummary:\u001b[0m\n",
            "Artificial Intelligence is a branch of computer science that aims to create machines capable of intelligent behavior . Historically, it has been a subject of fascination and intensive research since the mid-20th century .\n",
            "\n",
            "The provided summary contains \u001b[1m33\u001b[0m words.\n"
          ]
        }
      ]
    }
  ]
}